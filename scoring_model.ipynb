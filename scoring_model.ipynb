{
 "cells": [
  {
   "cell_type": "markdown",
   "id": "96e0d41f-bc87-4f0b-a3bf-e87d65cdc7ff",
   "metadata": {},
   "source": [
    "# Mission"
   ]
  },
  {
   "cell_type": "markdown",
   "id": "910f9f9a-cf99-4763-b756-bb962089dc68",
   "metadata": {},
   "source": [
    "**Prêt à dépenser**, une société financière spécialisée dans les crédits à la consommation pour des individus sans historique de prêt, souhaite développer un outil de \"scoring crédit\" pour calculer la probabilité qu’un client rembourse son crédit."
   ]
  },
  {
   "cell_type": "markdown",
   "id": "ce8c3fe2-2263-4750-911a-e20374cdb559",
   "metadata": {},
   "source": [
    "L'objectif est de prédire la probabilité de remboursement d'un client et de classifier les demandes en crédit accordé ou refusé en utilisant un algorithme de classification."
   ]
  },
  {
   "cell_type": "markdown",
   "id": "64ea13b1-b274-447b-9e69-03a5a97a27b3",
   "metadata": {
    "tags": []
   },
   "source": [
    "La mission implique :"
   ]
  },
  {
   "cell_type": "markdown",
   "id": "164e7c0a-959f-45d5-86f4-ccbefbf34d58",
   "metadata": {},
   "source": [
    "* Mise en œuvre d'une démarche MLOps en utilisant des outils Open Source :\n",
    "  - MLFlow : tracking d'expérimentations, stockage centralisé.\n",
    "  - Git : gestion de code.\n",
    "  - Github :  partage de code.\n",
    "  - Github Actions : Déploiement de l'API de manière continue.\n",
    "  - Pytest : tests unitaires.\n",
    "  - Evidently : Data drift en production.\n",
    "* Construction du modèle de scoring : \n",
    "  - Analyse des features qui contribuent le plus au modèle (feature importance locale et globale).\n",
    "  - Prise en compte du déséquilibre des classes et du coût métier entre faux négatifs et faux positifs.\n",
    "  - Optimisation des hyperparamètres\n",
    "* Mise en production du Modèle de scoring :\n",
    "  - Déploiement de l'API sur une plateforme Cloud (Azure ou autre)\n",
    "  - Interface de test en utilisant Streamlit"
   ]
  },
  {
   "cell_type": "markdown",
   "id": "fce6299e-9d13-4c79-a583-0e0f604cede2",
   "metadata": {},
   "source": [
    "# Importation des données"
   ]
  },
  {
   "cell_type": "code",
   "execution_count": 8,
   "id": "d7f1e9d1-e027-4a5f-b252-11256d03a0b9",
   "metadata": {},
   "outputs": [],
   "source": [
    "# Importation des librairies\n",
    "\n",
    "import matplotlib.pyplot as plt\n",
    "import numpy as np\n",
    "import pandas as pd\n",
    "import random\n",
    "import seaborn as sns\n",
    "\n",
    "from sklearn.dummy import DummyClassifier\n",
    "from sklearn.impute import SimpleImputer\n",
    "from sklearn.linear_model import LogisticRegression\n",
    "\n",
    "from sklearn.pipeline import Pipeline\n",
    "from sklearn.preprocessing import MinMaxScaler\n",
    "from sklearn.preprocessing import LabelEncoder\n",
    "\n",
    "from sklearn.metrics import accuracy_score\n",
    "from sklearn.metrics import roc_auc_score\n",
    "from sklearn.metrics import roc_curve\n",
    "from sklearn.metrics import auc\n",
    "from sklearn.metrics import precision_score, recall_score, f1_score, confusion_matrix\n",
    "\n",
    "from sklearn.model_selection import cross_validate\n",
    "from sklearn.model_selection import cross_val_predict\n",
    "from sklearn.model_selection import GridSearchCV\n",
    "from sklearn.model_selection import KFold\n",
    "from sklearn.model_selection import StratifiedKFold\n",
    "from sklearn.model_selection import train_test_split\n",
    "\n",
    "import time"
   ]
  },
  {
   "cell_type": "markdown",
   "id": "5a1339c5-b34e-4c0c-8550-628fed0573cb",
   "metadata": {},
   "source": [
    "Description des données :\n",
    "\n",
    "* **application_(train|test)** : les principales données de train et de test avec des informations sur chaque demande de prêt chez Home Credit. Chaque prêt a sa propre ligne et est identifié par la caractéristique SK_ID_CURR. Les données de train sont accompagnées de la caractéristique TARGET indiquant 0 : le prêt a été remboursé ou 1 : le prêt n'a pas été remboursé.\n",
    "* **bureau** : données concernant les crédits antérieurs du client auprès d'autres institutions financières. Chaque crédit précédent a sa propre ligne dans bureau, mais un prêt existant dans application_(train|test) peut avoir plusieurs crédits précédents.\n",
    "* **bureau_balance** : données mensuelles concernant les crédits précédents dans bureau. Chaque ligne correspond à un mois de crédit précédent, et un crédit précédent unique peut avoir plusieurs lignes, une pour chaque mois de la durée du crédit.\n",
    "* **previous_application** : demandes précédentes de prêts a Home Credit des clients qui ont des prêts dans les données de application_(train|test). Chaque prêt actuel dans les données de application_(train|test) peut avoir plusieurs prêts précédents. Chaque demande précédente a une ligne et est identifiée par la caractéristique SK_ID_PREV.\n",
    "* **POS_CASH_BALANCE** : données mensuelles sur les prêts au point de vente ou en espèces que les clients ont eu avec Home Credit. Chaque ligne correspond à un mois d'un prêt au point de vente ou d'un prêt en espèces précédent, et un seul prêt précédent peut avoir plusieurs lignes.\n",
    "* **credit_card_balance** : données mensuelles sur les cartes de crédit que les clients ont eu avec Home Credit. Chaque ligne correspond à un mois de solde de carte de crédit, et une seule carte de crédit peut avoir plusieurs lignes.\n",
    "* **installments_payment** : historique des paiements pour les prêts précédents chez Home Credit. Il y a une ligne pour chaque paiement effectué et une ligne pour chaque paiement manqué.\n"
   ]
  },
  {
   "cell_type": "markdown",
   "id": "55ee091d-ea71-44ce-8e10-0c0705bab0a5",
   "metadata": {},
   "source": [
    "Ce diagramme montre comment toutes les données sont liées:"
   ]
  },
  {
   "cell_type": "markdown",
   "id": "66dcb516-ddfc-446f-b312-51395878f209",
   "metadata": {
    "tags": []
   },
   "source": [
    "![home_credit.png](home_credit.png)"
   ]
  },
  {
   "cell_type": "code",
   "execution_count": 10,
   "id": "71edc446-bbca-4bc2-88cb-29b25afddeb1",
   "metadata": {
    "tags": []
   },
   "outputs": [
    {
     "name": "stdout",
     "output_type": "stream",
     "text": [
      "^C\n"
     ]
    }
   ],
   "source": [
    "!mlflow ui"
   ]
  },
  {
   "cell_type": "markdown",
   "id": "a543305e-797d-4113-abdb-1532fa60d7ca",
   "metadata": {
    "tags": []
   },
   "source": [
    "Modeles : LightGBM, XGBoost, CatBoost\n",
    "Metriques :\n",
    "- ROC AUC, precision, recall, f1, matrice de confusion"
   ]
  },
  {
   "cell_type": "markdown",
   "id": "c2472228-efdd-4e8d-ab63-99cf89fddb38",
   "metadata": {},
   "source": [
    "# Exploration des données"
   ]
  },
  {
   "cell_type": "code",
   "execution_count": null,
   "id": "1ba12304-4a57-4dba-be96-a4c8f5a7cc11",
   "metadata": {},
   "outputs": [],
   "source": []
  }
 ],
 "metadata": {
  "kernelspec": {
   "display_name": "Python 3 (ipykernel)",
   "language": "python",
   "name": "python3"
  },
  "language_info": {
   "codemirror_mode": {
    "name": "ipython",
    "version": 3
   },
   "file_extension": ".py",
   "mimetype": "text/x-python",
   "name": "python",
   "nbconvert_exporter": "python",
   "pygments_lexer": "ipython3",
   "version": "3.11.3"
  }
 },
 "nbformat": 4,
 "nbformat_minor": 5
}
