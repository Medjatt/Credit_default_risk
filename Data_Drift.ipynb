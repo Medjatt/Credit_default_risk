{
 "cells": [
  {
   "cell_type": "code",
   "execution_count": null,
   "id": "fa4de4a4-76bb-4000-aa47-8efdb8265f15",
   "metadata": {},
   "outputs": [],
   "source": [
    "import pandas as pd\n",
    "from evidently.dashboard import Dashboard\n",
    "from evidently.tabs import DataDriftTab\n",
    "import mlflow.pyfunc\n",
    "\n",
    "# Charger les données de référence\n",
    "reference_data = pd.read_csv(\"application_train.csv\")\n",
    "\n",
    "# Charger les nouvelles données\n",
    "new_data = pd.read_csv(\"application_test.csv\")\n",
    "\n",
    "# Charger le modèle enregistré\n",
    "logged_model = 'runs:/b1f4405487db4f1db185eeed7734b8fe/model_logistic_regression'\n",
    "loaded_model = mlflow.pyfunc.load_model(logged_model)\n",
    "\n",
    "# Prétraitement des nouvelles données avec le pipeline du modèle enregistré\n",
    "preprocessed_new_data = loaded_model.transform(new_data)\n",
    "\n",
    "# Analyser le Data Drift avec Evidently\n",
    "data_drift_report = Dashboard(tabs=[DataDriftTab()])\n",
    "data_drift_report.calculate(reference_data, preprocessed_new_data)\n",
    "data_drift_report.show()"
   ]
  },
  {
   "cell_type": "code",
   "execution_count": null,
   "id": "1d8ad525-7057-4390-83e5-f368936642c0",
   "metadata": {},
   "outputs": [],
   "source": []
  }
 ],
 "metadata": {
  "kernelspec": {
   "display_name": "Python 3 (ipykernel)",
   "language": "python",
   "name": "python3"
  },
  "language_info": {
   "codemirror_mode": {
    "name": "ipython",
    "version": 3
   },
   "file_extension": ".py",
   "mimetype": "text/x-python",
   "name": "python",
   "nbconvert_exporter": "python",
   "pygments_lexer": "ipython3",
   "version": "3.11.5"
  }
 },
 "nbformat": 4,
 "nbformat_minor": 5
}
